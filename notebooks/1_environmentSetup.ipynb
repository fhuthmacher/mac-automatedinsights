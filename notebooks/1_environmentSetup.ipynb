{
 "cells": [
  {
   "cell_type": "markdown",
   "metadata": {},
   "source": [
    "## Initial EnvironmentSetup"
   ]
  },
  {
   "cell_type": "code",
   "execution_count": 1,
   "metadata": {},
   "outputs": [],
   "source": [
    "# 1. Create a python environment\n",
    "\n",
    "# !conda create -y --name bedrock-agents-mac python=3.11.8\n",
    "# !conda init && activate bedrock-agents-mac\n",
    "# !conda install -n bedrock-agents-mac ipykernel --update-deps --force-reinstall -y\n",
    "# !conda install -c conda-forge ipython-sql\n",
    "\n",
    "## OR\n",
    "# !python -m venv venv\n",
    "# !source venv/bin/activate  # On Windows, use `venv\\Scripts\\activate`"
   ]
  },
  {
   "cell_type": "code",
   "execution_count": 2,
   "metadata": {},
   "outputs": [],
   "source": [
    "# 2. Install dependencies\n",
    "\n",
    "# !pip install -r requirements.txt"
   ]
  },
  {
   "cell_type": "code",
   "execution_count": 1,
   "metadata": {
    "execution": {
     "iopub.execute_input": "2025-02-28T02:22:52.138219Z",
     "iopub.status.busy": "2025-02-28T02:22:52.137663Z",
     "iopub.status.idle": "2025-02-28T02:22:53.178089Z",
     "shell.execute_reply": "2025-02-28T02:22:53.177397Z",
     "shell.execute_reply.started": "2025-02-28T02:22:52.138188Z"
    }
   },
   "outputs": [
    {
     "name": "stdout",
     "output_type": "stream",
     "text": [
      "sagemaker.config INFO - Fetched defaults config from location: /etc/xdg/sagemaker/config.yaml\n",
      "sagemaker.config INFO - Not applying SDK defaults from location: /home/sagemaker-user/.config/sagemaker/config.yaml\n",
      "sagemaker.config INFO - Applied value from config key = SageMaker.PythonSDK.Modules.Session.DefaultS3Bucket\n",
      "sagemaker.config INFO - Applied value from config key = SageMaker.PythonSDK.Modules.Session.DefaultS3ObjectKeyPrefix\n"
     ]
    }
   ],
   "source": [
    "# 3. Import necessary libraries and load environment variables\n",
    "from dotenv import load_dotenv, find_dotenv, set_key\n",
    "import os\n",
    "import sagemaker\n",
    "import boto3\n",
    "import json\n",
    "import os\n",
    "import pandas as pd\n",
    "\n",
    "from utils.bedrock import BedrockLLMWrapper\n",
    "\n",
    "# loading environment variables that are stored in local file\n",
    "local_env_filename = 'dev.env'\n",
    "load_dotenv(find_dotenv(local_env_filename),override=True)\n",
    "\n",
    "os.environ['REGION'] = os.getenv('REGION')\n",
    "os.environ['S3_BUCKET_NAME'] = os.getenv('S3_BUCKET_NAME')\n",
    "os.environ['AWS_ACCOUNT'] = os.getenv('AWS_ACCOUNT')\n",
    "\n",
    "REGION = os.environ['REGION']\n",
    "S3_BUCKET_NAME = os.environ['S3_BUCKET_NAME']\n",
    "AWS_ACCOUNT = os.environ['AWS_ACCOUNT']"
   ]
  },
  {
   "cell_type": "code",
   "execution_count": 2,
   "metadata": {
    "execution": {
     "iopub.execute_input": "2025-02-28T02:22:56.093849Z",
     "iopub.status.busy": "2025-02-28T02:22:56.093214Z",
     "iopub.status.idle": "2025-02-28T02:22:56.824579Z",
     "shell.execute_reply": "2025-02-28T02:22:56.823825Z",
     "shell.execute_reply.started": "2025-02-28T02:22:56.093822Z"
    }
   },
   "outputs": [
    {
     "name": "stdout",
     "output_type": "stream",
     "text": [
      "sagemaker.config INFO - Applied value from config key = SageMaker.PythonSDK.Modules.Session.DefaultS3Bucket\n",
      "sagemaker.config INFO - Applied value from config key = SageMaker.PythonSDK.Modules.Session.DefaultS3ObjectKeyPrefix\n"
     ]
    }
   ],
   "source": [
    "import botocore.config\n",
    "config = botocore.config.Config(\n",
    "    connect_timeout=600,  # 10 minutes\n",
    "    read_timeout=600,     # 10 minutes\n",
    "    retries={'max_attempts': 3}\n",
    ")\n",
    "\n",
    "session = boto3.Session(region_name=REGION)\n",
    "\n",
    "# Create clients/session\n",
    "sagemaker_session = sagemaker.Session(boto_session=session)\n",
    "bedrock_agent_client = session.client('bedrock-agent', config=config)\n",
    "bedrock_agent_runtime_client = session.client('bedrock-agent-runtime', config=config)\n",
    "bedrock_runtime_client = session.client('bedrock-runtime', config=config)\n",
    "bedrock_client = session.client('bedrock', config=config)\n",
    "lambda_client = session.client('lambda', config=config)\n",
    "iam_resource = session.resource('iam')\n",
    "iam_client = session.client('iam')\n",
    "athena_client = session.client('athena')\n",
    "s3_client = session.client('s3')\n"
   ]
  },
  {
   "cell_type": "code",
   "execution_count": 15,
   "metadata": {
    "execution": {
     "iopub.execute_input": "2025-02-28T02:18:06.132236Z",
     "iopub.status.busy": "2025-02-28T02:18:06.131597Z",
     "iopub.status.idle": "2025-02-28T02:18:06.633593Z",
     "shell.execute_reply": "2025-02-28T02:18:06.632816Z",
     "shell.execute_reply.started": "2025-02-28T02:18:06.132212Z"
    }
   },
   "outputs": [
    {
     "name": "stdout",
     "output_type": "stream",
     "text": [
      "sagemaker.config INFO - Applied value from config key = SageMaker.PythonSDK.Modules.Session.DefaultS3Bucket\n",
      "sagemaker.config INFO - Applied value from config key = SageMaker.PythonSDK.Modules.Session.DefaultS3ObjectKeyPrefix\n",
      "Default SageMaker bucket: amazon-sagemaker-165361166149-us-west-2-7c123d407319\n"
     ]
    }
   ],
   "source": [
    "import sagemaker\n",
    "\n",
    "# Get the default bucket\n",
    "session = sagemaker.Session()\n",
    "default_bucket = session.default_bucket()\n",
    "print(f\"Default SageMaker bucket: {default_bucket}\")"
   ]
  },
  {
   "cell_type": "markdown",
   "metadata": {},
   "source": [
    "## Create S3 bucket"
   ]
  },
  {
   "cell_type": "code",
   "execution_count": 6,
   "metadata": {
    "execution": {
     "iopub.execute_input": "2025-02-28T02:42:24.315420Z",
     "iopub.status.busy": "2025-02-28T02:42:24.315049Z",
     "iopub.status.idle": "2025-02-28T02:42:24.323831Z",
     "shell.execute_reply": "2025-02-28T02:42:24.322008Z",
     "shell.execute_reply.started": "2025-02-28T02:42:24.315392Z"
    }
   },
   "outputs": [],
   "source": [
    "def create_s3_bucket_if_not_exists(s3_client, bucket_name, region):\n",
    "    try:\n",
    "        s3_client.head_bucket(Bucket=bucket_name)\n",
    "        print(f\"Bucket {bucket_name} already exists\")\n",
    "    except s3_client.exceptions.ClientError as e:\n",
    "        error_code = e.response['Error']['Code']\n",
    "        if error_code == '404':\n",
    "            try:\n",
    "                # For regions other than us-east-1, we need to specify LocationConstraint\n",
    "                if region != 'us-east-1':\n",
    "                    s3_client.create_bucket(\n",
    "                        Bucket=bucket_name,\n",
    "                        CreateBucketConfiguration={'LocationConstraint': region}\n",
    "                    )\n",
    "                else:\n",
    "                    s3_client.create_bucket(Bucket=bucket_name)\n",
    "                print(f\"Created bucket {bucket_name}\")\n",
    "            except Exception as create_error:\n",
    "                print(f\"Error creating bucket: {create_error}\")\n",
    "                raise\n",
    "        else:\n",
    "            print(f\"Error checking bucket: {e}\")\n",
    "            raise\n",
    "\n",
    "# Initialize S3 client and create bucket\n",
    "\n",
    "# create_s3_bucket_if_not_exists(s3_client, S3_BUCKET_NAME, REGION)\n"
   ]
  },
  {
   "cell_type": "code",
   "execution_count": 5,
   "metadata": {
    "execution": {
     "iopub.execute_input": "2025-02-28T02:27:54.971524Z",
     "iopub.status.busy": "2025-02-28T02:27:54.971127Z",
     "iopub.status.idle": "2025-02-28T02:27:55.056637Z",
     "shell.execute_reply": "2025-02-28T02:27:55.055483Z",
     "shell.execute_reply.started": "2025-02-28T02:27:54.971499Z"
    }
   },
   "outputs": [
    {
     "ename": "ClientError",
     "evalue": "An error occurred (AccessDenied) when calling the PutObject operation: User: arn:aws:sts::165361166149:assumed-role/datazone_usr_role_cxmdg4c04jc8sw_b42dcr7rrxtxcg/SageMaker is not authorized to perform: s3:PutObject on resource: \"arn:aws:s3:::amazon-sagemaker-165361166149-us-west-2-7c123d407319/metadata/use_cases/\" because no identity-based policy allows the s3:PutObject action",
     "output_type": "error",
     "traceback": [
      "\u001b[0;31m---------------------------------------------------------------------------\u001b[0m",
      "\u001b[0;31mClientError\u001b[0m                               Traceback (most recent call last)",
      "Cell \u001b[0;32mIn[5], line 2\u001b[0m\n\u001b[1;32m      1\u001b[0m \u001b[38;5;66;03m# create the following folders in the bucket\u001b[39;00m\n\u001b[0;32m----> 2\u001b[0m \u001b[43ms3_client\u001b[49m\u001b[38;5;241;43m.\u001b[39;49m\u001b[43mput_object\u001b[49m\u001b[43m(\u001b[49m\u001b[43mBucket\u001b[49m\u001b[38;5;241;43m=\u001b[39;49m\u001b[43mS3_BUCKET_NAME\u001b[49m\u001b[43m,\u001b[49m\u001b[43m \u001b[49m\u001b[43mKey\u001b[49m\u001b[38;5;241;43m=\u001b[39;49m\u001b[38;5;124;43m'\u001b[39;49m\u001b[38;5;124;43mmetadata/use_cases/\u001b[39;49m\u001b[38;5;124;43m'\u001b[39;49m\u001b[43m)\u001b[49m\n\u001b[1;32m      3\u001b[0m s3_client\u001b[38;5;241m.\u001b[39mput_object(Bucket\u001b[38;5;241m=\u001b[39mS3_BUCKET_NAME, Key\u001b[38;5;241m=\u001b[39m\u001b[38;5;124m'\u001b[39m\u001b[38;5;124mmetadata/er_diagram/\u001b[39m\u001b[38;5;124m'\u001b[39m)\n\u001b[1;32m      4\u001b[0m s3_client\u001b[38;5;241m.\u001b[39mput_object(Bucket\u001b[38;5;241m=\u001b[39mS3_BUCKET_NAME, Key\u001b[38;5;241m=\u001b[39m\u001b[38;5;124m'\u001b[39m\u001b[38;5;124mmetadata/sql_table_definition/\u001b[39m\u001b[38;5;124m'\u001b[39m)\n",
      "File \u001b[0;32m/opt/conda/lib/python3.11/site-packages/botocore/client.py:569\u001b[0m, in \u001b[0;36mClientCreator._create_api_method.<locals>._api_call\u001b[0;34m(self, *args, **kwargs)\u001b[0m\n\u001b[1;32m    565\u001b[0m     \u001b[38;5;28;01mraise\u001b[39;00m \u001b[38;5;167;01mTypeError\u001b[39;00m(\n\u001b[1;32m    566\u001b[0m         \u001b[38;5;124mf\u001b[39m\u001b[38;5;124m\"\u001b[39m\u001b[38;5;132;01m{\u001b[39;00mpy_operation_name\u001b[38;5;132;01m}\u001b[39;00m\u001b[38;5;124m() only accepts keyword arguments.\u001b[39m\u001b[38;5;124m\"\u001b[39m\n\u001b[1;32m    567\u001b[0m     )\n\u001b[1;32m    568\u001b[0m \u001b[38;5;66;03m# The \"self\" in this scope is referring to the BaseClient.\u001b[39;00m\n\u001b[0;32m--> 569\u001b[0m \u001b[38;5;28;01mreturn\u001b[39;00m \u001b[38;5;28;43mself\u001b[39;49m\u001b[38;5;241;43m.\u001b[39;49m\u001b[43m_make_api_call\u001b[49m\u001b[43m(\u001b[49m\u001b[43moperation_name\u001b[49m\u001b[43m,\u001b[49m\u001b[43m \u001b[49m\u001b[43mkwargs\u001b[49m\u001b[43m)\u001b[49m\n",
      "File \u001b[0;32m/opt/conda/lib/python3.11/site-packages/botocore/client.py:1023\u001b[0m, in \u001b[0;36mBaseClient._make_api_call\u001b[0;34m(self, operation_name, api_params)\u001b[0m\n\u001b[1;32m   1019\u001b[0m     error_code \u001b[38;5;241m=\u001b[39m error_info\u001b[38;5;241m.\u001b[39mget(\u001b[38;5;124m\"\u001b[39m\u001b[38;5;124mQueryErrorCode\u001b[39m\u001b[38;5;124m\"\u001b[39m) \u001b[38;5;129;01mor\u001b[39;00m error_info\u001b[38;5;241m.\u001b[39mget(\n\u001b[1;32m   1020\u001b[0m         \u001b[38;5;124m\"\u001b[39m\u001b[38;5;124mCode\u001b[39m\u001b[38;5;124m\"\u001b[39m\n\u001b[1;32m   1021\u001b[0m     )\n\u001b[1;32m   1022\u001b[0m     error_class \u001b[38;5;241m=\u001b[39m \u001b[38;5;28mself\u001b[39m\u001b[38;5;241m.\u001b[39mexceptions\u001b[38;5;241m.\u001b[39mfrom_code(error_code)\n\u001b[0;32m-> 1023\u001b[0m     \u001b[38;5;28;01mraise\u001b[39;00m error_class(parsed_response, operation_name)\n\u001b[1;32m   1024\u001b[0m \u001b[38;5;28;01melse\u001b[39;00m:\n\u001b[1;32m   1025\u001b[0m     \u001b[38;5;28;01mreturn\u001b[39;00m parsed_response\n",
      "\u001b[0;31mClientError\u001b[0m: An error occurred (AccessDenied) when calling the PutObject operation: User: arn:aws:sts::165361166149:assumed-role/datazone_usr_role_cxmdg4c04jc8sw_b42dcr7rrxtxcg/SageMaker is not authorized to perform: s3:PutObject on resource: \"arn:aws:s3:::amazon-sagemaker-165361166149-us-west-2-7c123d407319/metadata/use_cases/\" because no identity-based policy allows the s3:PutObject action"
     ]
    }
   ],
   "source": [
    "# create the following folders in the bucket\n",
    "s3_client.put_object(Bucket=S3_BUCKET_NAME, Key='metadata/use_cases/')\n",
    "s3_client.put_object(Bucket=S3_BUCKET_NAME, Key='metadata/er_diagram/')\n",
    "s3_client.put_object(Bucket=S3_BUCKET_NAME, Key='metadata/sql_table_definition/')\n",
    "s3_client.put_object(Bucket=S3_BUCKET_NAME, Key='uploads/')\n",
    "s3_client.put_object(Bucket=S3_BUCKET_NAME, Key='models/')\n",
    "s3_client.put_object(Bucket=S3_BUCKET_NAME, Key='results/')\n",
    "s3_client.put_object(Bucket=S3_BUCKET_NAME, Key='athena_results/')\n",
    "s3_client.put_object(Bucket=S3_BUCKET_NAME, Key='raw/')\n",
    "s3_client.put_object(Bucket=S3_BUCKET_NAME, Key='ml_datasets/')\n",
    "s3_client.put_object(Bucket=S3_BUCKET_NAME, Key='mlflow/')"
   ]
  },
  {
   "cell_type": "markdown",
   "metadata": {},
   "source": [
    "## Upload all test-files to S3"
   ]
  },
  {
   "cell_type": "code",
   "execution_count": 8,
   "metadata": {},
   "outputs": [],
   "source": [
    "# upload all files from data/use_case_data to s3 uploads folder\n",
    "for file in os.listdir('../data/use_case_data'):\n",
    "    s3_client.upload_file(os.path.join('../data/use_case_data', file), \n",
    "                          S3_BUCKET_NAME, \n",
    "                          f'uploads/{file}')\n"
   ]
  },
  {
   "cell_type": "markdown",
   "metadata": {},
   "source": [
    "## Upload use case details to S3"
   ]
  },
  {
   "cell_type": "code",
   "execution_count": 9,
   "metadata": {},
   "outputs": [],
   "source": [
    "# upload file data/use_case_details.jsonl to s3 metadata/use_cases folder\n",
    "\n",
    "file_path = '../data/use_case_details.jsonl'\n",
    "\n",
    "# S3 bucket name\n",
    "bucket_name = S3_BUCKET_NAME\n",
    "key_prefix = 'metadata/use_cases/use_case_details.jsonl'\n",
    "\n",
    "#upload file to s3\n",
    "s3_client.upload_file(file_path, \n",
    "                      bucket_name, \n",
    "                      key_prefix)"
   ]
  },
  {
   "cell_type": "markdown",
   "metadata": {},
   "source": [
    "## Create ECR repositories for Docker images"
   ]
  },
  {
   "cell_type": "code",
   "execution_count": null,
   "metadata": {},
   "outputs": [],
   "source": [
    "# create repository for Docker images\n",
    "# Initialize ECR client\n",
    "ecr_client = session.client('ecr')\n",
    "\n",
    "# List of repositories to create\n",
    "repositories = [\n",
    "    'automatedinsights/lambda_businessanalyst',\n",
    "    'automatedinsights/lambda_dataengineer',\n",
    "    'automatedinsights/lambda_datascientist',\n",
    "    'automatedinsights/lambda_supervisor'\n",
    "]\n",
    "\n",
    "# Function to create ECR repository if it doesn't exist\n",
    "def create_ecr_repository_if_not_exists(ecr_client, repository_name):\n",
    "    try:\n",
    "        # Try to describe the repository to see if it exists\n",
    "        ecr_client.describe_repositories(repositoryNames=[repository_name])\n",
    "        print(f\"Repository {repository_name} already exists\")\n",
    "    except ecr_client.exceptions.RepositoryNotFoundException:\n",
    "        try:\n",
    "            # Create the repository if it doesn't exist\n",
    "            response = ecr_client.create_repository(\n",
    "                repositoryName=repository_name,\n",
    "                imageScanningConfiguration={'scanOnPush': True},\n",
    "                encryptionConfiguration={'encryptionType': 'AES256'}\n",
    "            )\n",
    "            print(f\"Created repository {repository_name}\")\n",
    "            return response\n",
    "        except Exception as e:\n",
    "            print(f\"Error creating repository {repository_name}: {e}\")\n",
    "            raise\n",
    "    except Exception as e:\n",
    "        print(f\"Error checking repository {repository_name}: {e}\")\n",
    "        raise\n",
    "\n",
    "# Create repositories\n",
    "for repo in repositories:\n",
    "    create_ecr_repository_if_not_exists(ecr_client, repo)"
   ]
  },
  {
   "cell_type": "markdown",
   "metadata": {},
   "source": [
    "## Create Athena database if it doesn't exist"
   ]
  },
  {
   "cell_type": "code",
   "execution_count": null,
   "metadata": {},
   "outputs": [],
   "source": [
    "def create_glue_database_if_not_exists(glue_client, database_name):\n",
    "    try:\n",
    "        # Check if database exists\n",
    "        glue_client.get_database(Name=database_name)\n",
    "        print(f\"Database {database_name} already exists\")\n",
    "    except glue_client.exceptions.EntityNotFoundException:\n",
    "        try:\n",
    "            # Create database if it doesn't exist\n",
    "            glue_client.create_database(\n",
    "                DatabaseInput={\n",
    "                    'Name': database_name,\n",
    "                    'Description': 'Database for Automated Insights project',\n",
    "                    'LocationUri': f's3://{database_name}/athena_results/'\n",
    "                }\n",
    "            )\n",
    "            print(f\"Created database {database_name}\")\n",
    "        except Exception as e:\n",
    "            print(f\"Error creating database: {e}\")\n",
    "            raise\n",
    "    except Exception as e:\n",
    "        print(f\"Error checking database: {e}\")\n",
    "        raise\n",
    "\n",
    "# Initialize Glue client\n",
    "glue_client = session.client('glue')\n",
    "\n",
    "# Create database (using S3 bucket name as database name for consistency)\n",
    "database_name = S3_BUCKET_NAME.replace('-', '_')  # Glue databases can't have hyphens\n",
    "create_glue_database_if_not_exists(glue_client, database_name)"
   ]
  },
  {
   "cell_type": "markdown",
   "metadata": {},
   "source": [
    "## Setup Bedrock Application Inference Profiles\n",
    "\n",
    "Wwe will create 1 inference profile for each agent, and 1 inference profile for each agent evaluation, and 1 inference profile for the multi-agent evaluation. Therefore in total we will have 7 inference profiles."
   ]
  },
  {
   "cell_type": "code",
   "execution_count": null,
   "metadata": {},
   "outputs": [],
   "source": [
    "# list inference profiles\n",
    "# bedrock_client.list_inference_profiles(typeEquals='APPLICATION')\n",
    "\n",
    "# delete all inference profiles that start with 'ClaudeSonnet'\n",
    "response = bedrock_client.list_inference_profiles(typeEquals='APPLICATION')\n",
    "for profile in response.get('inferenceProfileSummaries', []):\n",
    "    if profile.get('inferenceProfileName', '').startswith('ClaudeSonnet'):\n",
    "        bedrock_client.delete_inference_profile(\n",
    "            inferenceProfileIdentifier=profile['inferenceProfileArn']\n",
    "        )\n",
    "\n",
    "# List remaining profiles\n",
    "bedrock_client.list_inference_profiles(typeEquals='APPLICATION')"
   ]
  },
  {
   "cell_type": "code",
   "execution_count": null,
   "metadata": {},
   "outputs": [],
   "source": [
    "# 1. create multi-agent evaluation application inference profile\n",
    "MODEL_ID = \"anthropic.claude-3-sonnet-20240229-v1:0\" #\"anthropic.claude-3-5-sonnet-20241022-v2:0\"\n",
    "cr_inf_profile_arn = f'arn:aws:bedrock:{REGION}::foundation-model/{MODEL_ID}'\n",
    "cr_app_inf_profile_response = bedrock_client.create_inference_profile(\n",
    "    inferenceProfileName='ClaudeSonnetAutomatedInsights',\n",
    "    description='Application profile for Claude Sonnet 3.5',\n",
    "    modelSource={\n",
    "        'copyFrom': cr_inf_profile_arn\n",
    "    },\n",
    "    tags=[\n",
    "        {\n",
    "            'key': 'projectName',\n",
    "            'value': 'huthmac-AutomatedInsights'\n",
    "        },\n",
    "    ]\n",
    ")\n",
    "\n",
    "mac_eval_profile_arn = cr_app_inf_profile_response['inferenceProfileArn']\n",
    "# save to dev.env\n",
    "set_key(local_env_filename, 'MAC_EVAL_PROFILE_ARN', mac_eval_profile_arn)"
   ]
  },
  {
   "cell_type": "code",
   "execution_count": null,
   "metadata": {},
   "outputs": [],
   "source": [
    "# Test the inference profile\n",
    "from utils.bedrock import BedrockLLMWrapper\n",
    "bedrock_llm = BedrockLLMWrapper(model_id=mac_eval_profile_arn, \n",
    "                                max_token_count=2000,\n",
    "                                temperature=0,\n",
    "                                region=REGION,\n",
    "                                session=session\n",
    "                            )\n",
    "bedrock_llm.generate(\"Hello, how are you?\")"
   ]
  },
  {
   "cell_type": "code",
   "execution_count": null,
   "metadata": {},
   "outputs": [],
   "source": [
    "# 2. create Data Engineer application inference profile with cross regional routing\n",
    "\n",
    "cr_inf_profile_arn = f'arn:aws:bedrock:{REGION}::foundation-model/{MODEL_ID}'\n",
    "cr_app_inf_profile_response = bedrock_client.create_inference_profile(\n",
    "    inferenceProfileName='ClaudeSonnetDataEngineer',\n",
    "    description='Application profile for Claude Sonnet 3.5',\n",
    "    modelSource={\n",
    "        'copyFrom': cr_inf_profile_arn\n",
    "    },\n",
    "    tags=[\n",
    "        {\n",
    "            'key': 'projectName',\n",
    "            'value': 'huthmac-AutomatedInsights'\n",
    "        },\n",
    "        {\n",
    "            'key': 'agent',\n",
    "            'value': 'DataEngineer'\n",
    "        },\n",
    "    ]\n",
    ")\n",
    "cr_app_inf_profile_response['inferenceProfileArn']\n",
    "dataengineer_agent_profile_arn = cr_app_inf_profile_response['inferenceProfileArn']\n",
    "# save to dev.env\n",
    "set_key(local_env_filename, 'DATAENGINEER_AGENT_PROFILE_ARN', dataengineer_agent_profile_arn)"
   ]
  },
  {
   "cell_type": "code",
   "execution_count": null,
   "metadata": {},
   "outputs": [],
   "source": [
    "# 3. create Data Engineer Eval application inference profile with cross regional routing\n",
    "\n",
    "cr_inf_profile_arn = f'arn:aws:bedrock:{REGION}::foundation-model/{MODEL_ID}'\n",
    "cr_app_inf_profile_response = bedrock_client.create_inference_profile(\n",
    "    inferenceProfileName='ClaudeSonnetDataEngineerEval',\n",
    "    description='Application profile for Claude Sonnet 3.5',\n",
    "    modelSource={\n",
    "        'copyFrom': cr_inf_profile_arn\n",
    "    },\n",
    "    tags=[\n",
    "        {\n",
    "            'key': 'projectName',\n",
    "            'value': 'huthmac-AutomatedInsights'\n",
    "        },\n",
    "        {\n",
    "            'key': 'agent',\n",
    "            'value': 'DataEngineer'\n",
    "        },\n",
    "        {\n",
    "            'key': 'evaluation',\n",
    "            'value': 'DataEngineerEval'\n",
    "        },\n",
    "    ]\n",
    ")\n",
    "cr_app_inf_profile_response['inferenceProfileArn']\n",
    "dataengineer_agent_eval_profile_arn = cr_app_inf_profile_response['inferenceProfileArn']\n",
    "# save to dev.env\n",
    "set_key(local_env_filename, 'DATAENGINEER_AGENT_EVAL_PROFILE_ARN', dataengineer_agent_eval_profile_arn)"
   ]
  },
  {
   "cell_type": "code",
   "execution_count": null,
   "metadata": {},
   "outputs": [],
   "source": [
    "# 4. create Business Analyst application inference profile with cross regional routing\n",
    "\n",
    "cr_inf_profile_arn = f'arn:aws:bedrock:{REGION}::foundation-model/{MODEL_ID}'\n",
    "cr_app_inf_profile_response = bedrock_client.create_inference_profile(\n",
    "    inferenceProfileName='ClaudeSonnetBusinessAnalyst',\n",
    "    description='Application profile for Claude Sonnet 3.5',\n",
    "    modelSource={\n",
    "        'copyFrom': cr_inf_profile_arn\n",
    "    },\n",
    "    tags=[\n",
    "        {\n",
    "            'key': 'projectName',\n",
    "            'value': 'huthmac-AutomatedInsights'\n",
    "        },\n",
    "        {\n",
    "            'key': 'agent',\n",
    "            'value': 'BusinessAnalyst'\n",
    "        },\n",
    "    ]\n",
    ")\n",
    "cr_app_inf_profile_response['inferenceProfileArn']\n",
    "businessanalyst_agent_profile_arn = cr_app_inf_profile_response['inferenceProfileArn']\n",
    "# save to dev.env\n",
    "set_key(local_env_filename, 'BUSINESSANALYST_AGENT_PROFILE_ARN', businessanalyst_agent_profile_arn)"
   ]
  },
  {
   "cell_type": "code",
   "execution_count": null,
   "metadata": {},
   "outputs": [],
   "source": [
    "# 5. create Business Analyst Eval application inference profile with cross regional routing\n",
    "\n",
    "cr_inf_profile_arn = f'arn:aws:bedrock:{REGION}::foundation-model/{MODEL_ID}'\n",
    "cr_app_inf_profile_response = bedrock_client.create_inference_profile(\n",
    "    inferenceProfileName='ClaudeSonnetBusinessAnalystEval',\n",
    "    description='Application profile for Claude Sonnet 3.5',\n",
    "    modelSource={\n",
    "        'copyFrom': cr_inf_profile_arn\n",
    "    },\n",
    "    tags=[\n",
    "        {\n",
    "            'key': 'projectName',\n",
    "            'value': 'huthmac-AutomatedInsights'\n",
    "        },\n",
    "        {\n",
    "            'key': 'agent',\n",
    "            'value': 'BusinessAnalyst'\n",
    "        },\n",
    "        {\n",
    "            'key': 'evaluation',\n",
    "            'value': 'BusinessAnalystEval'\n",
    "        },\n",
    "    ]\n",
    ")\n",
    "cr_app_inf_profile_response['inferenceProfileArn']\n",
    "businessanalyst_agent_eval_profile_arn = cr_app_inf_profile_response['inferenceProfileArn']\n",
    "# save to dev.env\n",
    "set_key(local_env_filename, 'BUSINESSANALYST_AGENT_EVAL_PROFILE_ARN', businessanalyst_agent_eval_profile_arn)\n"
   ]
  },
  {
   "cell_type": "code",
   "execution_count": null,
   "metadata": {},
   "outputs": [],
   "source": [
    "# 6. create Data Scientist application inference profile with cross regional routing\n",
    "\n",
    "cr_inf_profile_arn = f'arn:aws:bedrock:{REGION}::foundation-model/{MODEL_ID}'\n",
    "cr_app_inf_profile_response = bedrock_client.create_inference_profile(\n",
    "    inferenceProfileName='ClaudeSonnetDataScientist',\n",
    "    description='Application profile for Claude Sonnet 3.5',\n",
    "    modelSource={\n",
    "        'copyFrom': cr_inf_profile_arn\n",
    "    },\n",
    "    tags=[\n",
    "        {\n",
    "            'key': 'projectName',\n",
    "            'value': 'huthmac-AutomatedInsights'\n",
    "        },\n",
    "        {\n",
    "            'key': 'agent',\n",
    "            'value': 'DataScientist'\n",
    "        },\n",
    "    ]\n",
    ")\n",
    "cr_app_inf_profile_response['inferenceProfileArn']\n",
    "datascientist_agent_profile_arn = cr_app_inf_profile_response['inferenceProfileArn']\n",
    "# save to dev.env\n",
    "set_key(local_env_filename, 'DATASCIENTIST_AGENT_PROFILE_ARN', datascientist_agent_profile_arn)\n"
   ]
  },
  {
   "cell_type": "code",
   "execution_count": null,
   "metadata": {},
   "outputs": [],
   "source": [
    "# 7. create Data Scientist Eval application inference profile with cross regional routing\n",
    "\n",
    "cr_inf_profile_arn = f'arn:aws:bedrock:{REGION}::foundation-model/{MODEL_ID}'\n",
    "cr_app_inf_profile_response = bedrock_client.create_inference_profile(\n",
    "    inferenceProfileName='ClaudeSonnetDataScientistEval',\n",
    "    description='Application profile for Claude Sonnet 3.5',\n",
    "    modelSource={\n",
    "        'copyFrom': cr_inf_profile_arn\n",
    "    },\n",
    "    tags=[\n",
    "        {\n",
    "            'key': 'projectName',\n",
    "            'value': 'huthmac-AutomatedInsights'\n",
    "        },\n",
    "        {\n",
    "            'key': 'agent',\n",
    "            'value': 'DataScientist'\n",
    "        },\n",
    "        {\n",
    "            'key': 'evaluation',\n",
    "            'value': 'DataScientistEval'\n",
    "        },\n",
    "    ]\n",
    ")\n",
    "cr_app_inf_profile_response['inferenceProfileArn']\n",
    "datascientist_agent_eval_profile_arn = cr_app_inf_profile_response['inferenceProfileArn']\n",
    "# save to dev.env\n",
    "set_key(local_env_filename, 'DATASCIENTIST_AGENT_EVAL_PROFILE_ARN', datascientist_agent_eval_profile_arn)\n"
   ]
  }
 ],
 "metadata": {
  "kernelspec": {
   "display_name": "Python 3 (ipykernel)",
   "language": "python",
   "name": "python3"
  },
  "language_info": {
   "codemirror_mode": {
    "name": "ipython",
    "version": 3
   },
   "file_extension": ".py",
   "mimetype": "text/x-python",
   "name": "python",
   "nbconvert_exporter": "python",
   "pygments_lexer": "ipython3",
   "version": "3.11.11"
  }
 },
 "nbformat": 4,
 "nbformat_minor": 4
}
